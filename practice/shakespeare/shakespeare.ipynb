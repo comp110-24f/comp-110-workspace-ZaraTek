{
 "cells": [
  {
   "cell_type": "markdown",
   "metadata": {},
   "source": [
    "# Quantifying Shakespeare\n",
    "\n",
    "What are the frequency of letters Shakespeare used in their complete works?"
   ]
  },
  {
   "cell_type": "code",
   "execution_count": 4,
   "metadata": {},
   "outputs": [
    {
     "name": "stdout",
     "output_type": "stream",
     "text": [
      "196309\n",
      "But as the riper should by time decease,\n",
      "\n"
     ]
    }
   ],
   "source": [
    "lines: list[str] = []\n",
    "file_handle = open(\"shakespeare.txt\", \"r\", encoding=\"utf8\")\n",
    "lines = file_handle.readlines()\n",
    "file_handle.close()\n",
    "\n",
    "print(len(lines))\n",
    "print(lines[5])"
   ]
  },
  {
   "cell_type": "markdown",
   "metadata": {},
   "source": [
    "Removing non-alphabet characters and converting alphabetized characters to lowercase."
   ]
  },
  {
   "cell_type": "code",
   "execution_count": null,
   "metadata": {},
   "outputs": [],
   "source": [
    "clean_lines: list[str] = []\n",
    "\n",
    "for line in lines:\n",
    "    clean_line: str = \"\"\n",
    "    for character in line:\n",
    "        if character.isalpha():\n",
    "            clean_line += character\n",
    "    clean_line = clean_line.lower()\n",
    "    clean_lines.append(clean_line)"
   ]
  },
  {
   "cell_type": "markdown",
   "metadata": {},
   "source": [
    "Great! Now we can count the frequencies of all character values in Shakespeare."
   ]
  },
  {
   "cell_type": "code",
   "execution_count": 16,
   "metadata": {},
   "outputs": [
    {
     "data": {
      "text/plain": [
       "{'f': 86406,\n",
       " 'r': 253713,\n",
       " 'o': 334140,\n",
       " 'm': 118301,\n",
       " 'a': 312083,\n",
       " 'i': 272050,\n",
       " 'e': 487518,\n",
       " 's': 268982,\n",
       " 't': 356116,\n",
       " 'c': 92416,\n",
       " 'u': 137795,\n",
       " 'w': 96438,\n",
       " 'd': 159790,\n",
       " 'n': 262355,\n",
       " 'h': 257072,\n",
       " 'b': 64341,\n",
       " 'y': 99755,\n",
       " 'g': 73136,\n",
       " 'v': 40533,\n",
       " 'p': 61918,\n",
       " 'l': 181609,\n",
       " 'k': 37972,\n",
       " 'z': 1796,\n",
       " 'x': 5427,\n",
       " 'q': 4011,\n",
       " 'j': 5021,\n",
       " 'æ': 71,\n",
       " 'œ': 17,\n",
       " 'à': 18,\n",
       " 'é': 53,\n",
       " 'è': 38,\n",
       " 'â': 2,\n",
       " 'ç': 52,\n",
       " 'î': 2,\n",
       " 'ê': 6,\n",
       " 'ë': 4}"
      ]
     },
     "execution_count": 16,
     "metadata": {},
     "output_type": "execute_result"
    }
   ],
   "source": [
    "frequencies: dict[str, int] = {}\n",
    "\n",
    "# For every line in lines\n",
    "for line in clean_lines:\n",
    "#   For every character in line\n",
    "    for character in line:\n",
    "#       Increase the count of occurrences of that character\n",
    "        if character not in frequencies:\n",
    "            frequencies[character] = 1\n",
    "        else:\n",
    "            frequencies[character] += 1\n",
    "\n",
    "frequencies"
   ]
  },
  {
   "cell_type": "markdown",
   "metadata": {},
   "source": [
    "Compute the toral number of alphabetical characters and likelihood of character \"e\""
   ]
  },
  {
   "cell_type": "code",
   "execution_count": null,
   "metadata": {},
   "outputs": [
    {
     "name": "stdout",
     "output_type": "stream",
     "text": [
      "4070957\n",
      "11.975513374373643%\n"
     ]
    }
   ],
   "source": [
    "total_alpha_characters: int = 0\n",
    "\n",
    "# Compute total number of characters in Shakespeare\n",
    "for character in frequencies:\n",
    "    total_alpha_characters += frequencies[character]\n",
    "\n",
    "print(total_alpha_characters)\n",
    "\n",
    "# Likelihood of \"e\"\n",
    "print(f\"{(frequencies[\"e\"] / total_alpha_characters) * 100}%\")"
   ]
  }
 ],
 "metadata": {
  "kernelspec": {
   "display_name": "Python 3",
   "language": "python",
   "name": "python3"
  },
  "language_info": {
   "codemirror_mode": {
    "name": "ipython",
    "version": 3
   },
   "file_extension": ".py",
   "mimetype": "text/x-python",
   "name": "python",
   "nbconvert_exporter": "python",
   "pygments_lexer": "ipython3",
   "version": "3.12.4"
  }
 },
 "nbformat": 4,
 "nbformat_minor": 2
}
